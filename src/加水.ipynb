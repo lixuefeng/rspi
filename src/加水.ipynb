{
 "cells": [
  {
   "cell_type": "code",
   "execution_count": 9,
   "metadata": {},
   "outputs": [],
   "source": [
    "#coding=utf-8\n",
    "import RPi.GPIO as GPIO\n",
    "import time\n",
    "pin=13\n",
    "GPIO.setmode(GPIO.BOARD)\n",
    "GPIO.setup(pin,GPIO.OUT)\n",
    "#GPIO.output(pin, 1)\n",
    "#time.sleep(100)\n",
    "GPIO.output(pin, 0)\n",
    "GPIO.cleanup()\n"
   ]
  },
  {
   "cell_type": "code",
   "execution_count": null,
   "metadata": {},
   "outputs": [],
   "source": []
  },
  {
   "cell_type": "code",
   "execution_count": null,
   "metadata": {},
   "outputs": [],
   "source": []
  }
 ],
 "metadata": {
  "kernelspec": {
   "display_name": "Python 3",
   "language": "python",
   "name": "python3"
  },
  "language_info": {
   "codemirror_mode": {
    "name": "ipython",
    "version": 3
   },
   "file_extension": ".py",
   "mimetype": "text/x-python",
   "name": "python",
   "nbconvert_exporter": "python",
   "pygments_lexer": "ipython3",
   "version": "3.7.3"
  }
 },
 "nbformat": 4,
 "nbformat_minor": 4
}
