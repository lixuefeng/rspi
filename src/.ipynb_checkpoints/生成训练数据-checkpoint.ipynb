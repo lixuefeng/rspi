{
 "cells": [
  {
   "cell_type": "code",
   "execution_count": 3,
   "metadata": {},
   "outputs": [],
   "source": [
    "from PIL import Image\n",
    "from PIL import ImageFilter\n",
    "import os\n",
    "import shutil\n",
    "import re\n",
    "os.system('mkdir -p ../dataset/v2/')\n",
    "\n",
    "import RPi.GPIO as GPIO\n",
    "import time\n",
    "pin=13\n",
    "GPIO.setmode(GPIO.BOARD)\n",
    "GPIO.setup(pin,GPIO.OUT)\n",
    "GPIO.output(pin, 1)\n",
    "os.system('raspistill -w 540 -h 480 -t 130000 -tl 3000 -o ../dataset/v2/image{}%03d.jpg'.format(str(int(time.time()))))\n",
    "GPIO.output(pin, 0)\n",
    "GPIO.cleanup()\n"
   ]
  },
  {
   "cell_type": "code",
   "execution_count": null,
   "metadata": {},
   "outputs": [],
   "source": [
    "https://www.processon.com/diagraming/5ee744b85653bb29259aa9c4"
   ]
  },
  {
   "cell_type": "code",
   "execution_count": null,
   "metadata": {},
   "outputs": [],
   "source": []
  }
 ],
 "metadata": {
  "kernelspec": {
   "display_name": "Python 3",
   "language": "python",
   "name": "python3"
  },
  "language_info": {
   "codemirror_mode": {
    "name": "ipython",
    "version": 3
   },
   "file_extension": ".py",
   "mimetype": "text/x-python",
   "name": "python",
   "nbconvert_exporter": "python",
   "pygments_lexer": "ipython3",
   "version": "3.7.3"
  }
 },
 "nbformat": 4,
 "nbformat_minor": 4
}
